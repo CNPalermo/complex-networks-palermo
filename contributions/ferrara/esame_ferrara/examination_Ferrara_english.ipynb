{
 "cells": [
  {
   "cell_type": "markdown",
   "id": "ec88c071-2023-43e1-abed-0d04a178bfa7",
   "metadata": {},
   "source": [
    "# Complex Network exam by Alessandro Michele Ferrara, dated 22 02 2023"
   ]
  },
  {
   "cell_type": "markdown",
   "id": "29a4d416-249d-4b8a-b6f1-dd1eb51eefee",
   "metadata": {},
   "source": [
    "# First question: Illustrate the Small World model"
   ]
  },
  {
   "cell_type": "markdown",
   "id": "1ea98ed0-9ea6-41e6-a02e-67aed2dcfd54",
   "metadata": {},
   "source": [
    "The Small World is one of four foundational networks we've studied, often referred to as the \"Watts-Strugatz model,\" after its creators.\n",
    "The basic idea of the Small World is that we start from a k-regular network with k strictly even, this is nothing more than a network in which each node has degree equal to k, for example a 3-regular network is a network in where each node is connected to 3 other nodes.\n",
    "Clearly the degree distribution of such a network is a delta dirac on the value k.\n",
    "Once we have the k-regular network we can apply a process called \"rewiring\": We can imagine the network as a ring of nodes, iterate over each node in a clockwise direction (for example), and write the links that has the i-th node in its clockwise direction, for each of these links a random float number between 0 and 1 will be extracted, and it will be compared with the so-called \"rewiring probability\" p, if the extracted number is lower than p the link is broken, and will reconnect the node with a \"far\" node, where \"far\" means it was not connected to the original node.\n",
    "Once this is done you get a Small World network.\n",
    "Clearly the final result depends on the rewiring probability p, if p = 1 the rewiring is total and no information of the original k-regular network remains (clearly apart from the average degree which remains k and the number of nodes N), we obtain a graph which is to all intents and purposes a realization of Erdos-Reinyi equivalent to a generated one - considering that the average k remains the one inherited from the k-regular - with the p (of ER) which is generally equal to k/N, where N is the number of nodes of the network, also clearly inherited from the k-regular, and k is precisely that of the k-regular.\n",
    "For lower rewiring probabilities we have a classic Small World, its essential characteristics are that the average shortest path length is generally lower than a graph that, for example, we would obtain by applying a configuration model and recalculating it, hence the classic phrase \"it's a small world!\" to indicate that the ASPL between two nodes is in fact lower than a graph such as ER, where it tends to infinity as N tends to infinity.\n",
    "The same thing can be said of the Global Clustering Coefficient, this is on average higher than what we will obtain by applying the configuration model, as opposed to ER where the CC tends to 0 as N tends to infinity (it can be demonstrated that the CC in a ER goes like p, where with p=1 clearly all triangles are closed, so it is equal to 1).\n",
    "In general, the degree distribution of a Small World is equal to a Gaussian, in fact the average k widens (considering that we started from a delta dirac!), therefore it has an exponential decay, therefore more similar to the tail of an ER than to a scale-free graph like Barabasi_Albert or Borgatti_Everett."
   ]
  },
  {
   "cell_type": "markdown",
   "id": "52b8fa77-21f1-4c25-8e7a-30077a4beaca",
   "metadata": {},
   "source": [
    "# Second question: Explain the concept of percolation and why it is relevant in Complex Networks"
   ]
  },
  {
   "cell_type": "markdown",
   "id": "6e094d72-b867-493b-8baa-515bd3ba439f",
   "metadata": {},
   "source": [
    "To explain percolation we can imagine a two-dimensional rock layer that has water above it and a cavity below it.\n",
    "If we remove circles of equal area in the rock, sooner or later the water will be able to pass.\n",
    "You can write a quantity r called \"order parameter\" which is the ratio between the volume (or area, in 2D) that has been \"drilled\" and the total one.\n",
    "We can imagine a two-dimensional lattice, so let's consider that each node in this lattice has a probability p of being present or not, what is the minimum probability necessary to get from one end of the lattice to the other?\n",
    "In a 2D lattice this p_c is approximately 0.59.\n",
    "In the study of Complex Networks percolation is a concept that has many applications, for example with an approach based on percolation we can ask ourselves what is the necessary probability associated with the presence of nodes for which we have a giant component (and we are therefore able, generally, to go from node A to node B for any A and B), using this type of approach we find that the p_c is equal to (<k^2> - 2<k>) / (<k^2> - <k >), this derives from the Molloy_Reed condition in which <k^2> - 2<k> > 0 , in particular one can also investigate the vulnerability of networks, for example one can ask oneself: if one randomly removes nodes with probability p , what is the value that p must have to be able to \"break\" the giant component? For a Scale Free network like Barabasi Albert it turns out that p_c is almost 1, i.e. it is practically indestructible against random attacks of this type.\n",
    "In fact, to break the network it would be better to use more strategic attacks, for example by attacking nodes with high betweenness.\n",
    "A percolation approach is also important in a contact network that underlies a SIR model for example, the critical percolation at that point is the probability we should use randomly removing each node to \"stop\" the spreading of a epidemic, i.e. it can be considered, for example, linked to the fraction of the population that needs to be vaccinated."
   ]
  }
 ],
 "metadata": {
  "kernelspec": {
   "display_name": "Python 3 (ipykernel)",
   "language": "python",
   "name": "python3"
  },
  "language_info": {
   "codemirror_mode": {
    "name": "ipython",
    "version": 3
   },
   "file_extension": ".py",
   "mimetype": "text/x-python",
   "name": "python",
   "nbconvert_exporter": "python",
   "pygments_lexer": "ipython3",
   "version": "3.10.6"
  }
 },
 "nbformat": 4,
 "nbformat_minor": 5
}
