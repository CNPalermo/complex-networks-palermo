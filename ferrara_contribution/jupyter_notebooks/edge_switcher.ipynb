{
 "cells": [
  {
   "cell_type": "code",
   "execution_count": null,
   "id": "44edac42-8f93-4059-93db-2f4a41796cc6",
   "metadata": {},
   "outputs": [],
   "source": [
    "import random"
   ]
  },
  {
   "cell_type": "code",
   "execution_count": null,
   "id": "d91d26da-26af-445c-b34d-2a534e394d6d",
   "metadata": {},
   "outputs": [],
   "source": [
    "# the following code takes as an input an edgelist, ex:\n",
    "\n",
    "edgelist_1 = [(1,2), (2,3), (3,4), (4,1)]"
   ]
  },
  {
   "cell_type": "code",
   "execution_count": 7,
   "id": "7890ae01-1474-4c2e-ad2a-1e8d10edf681",
   "metadata": {},
   "outputs": [],
   "source": [
    "def edge_switcher(edgelist):\n",
    "    # mi genero un vettore \"random order\", con l'idea che fa da indice (ogni indice NON si ripete mai) ma in ordine randomico!\n",
    "    random_order = [i for i in range(len(edgelist))]\n",
    "    random.shuffle(random_order)\n",
    "    \n",
    "    while (i < len(edgelist)):\n",
    "        #mi genero un numero int random casuale che chiaramente farà da indice quindi è compreso fra 0 e len(edgelist)-1\n",
    "        rand = random.randint(0,len(edgelist)-1)\n",
    "        \n",
    "        #mi trovo un link casuale, ad esempio edgelist[randomorder[i]], e li richiamo in modo più leggibile\n",
    "        A_1 = edgelist[random_order[i]][0]\n",
    "        B_1 = edgelist[random_order[i]][1]\n",
    "        \n",
    "        #faccio la stessa cosa però con un link nella posizione rand\n",
    "        A_2 = edgelist[rand][0]\n",
    "        B_2 = edgelist[rand][1]\n",
    "        \n",
    "        \n",
    "        # questi if fanno da controllo, essenzialmente controllano che i link una volta switchati non siano self loops o multi loops, ma invece di andare avanti nel codice e basta, abbasso l'indice i di uno e uscendo dal for posso riprovare a fare lo switch finchè non funziona a dovere (ovvero no self-loops no multi-links), la funzione max serve a fare in modo che se lo switch fallisce proprio all'iterazione 0 non mi ritrovo un indice i negativo!\n",
    "        if A_1 == B_2:\n",
    "            continue\n",
    "\n",
    "        if B_1 == A_2 :\n",
    "            continue\n",
    "\n",
    "        if (A_1,B_2) in edgelist or (A_2,B_1) in edgelist or (B_2,A_1) in edgelist or (B_1,A_2) in edgelist:\n",
    "            continue\n",
    "        \n",
    "        \n",
    "        #se tutto funziona a dovere, switcho in effetto i link (ovvero se ho A-B e C-D alla fine avrò A-D e C-B)\n",
    "        tuple1 = (A_1, B_2)\n",
    "        tuple2 = (A_2, B_1)\n",
    "        edgelist[random_order[i]] = tuple1\n",
    "        edgelist[rand] = tuple2\n",
    "        \n",
    "        i += 1\n",
    "        \n",
    "    return edgelist\n"
   ]
  }
 ],
 "metadata": {
  "kernelspec": {
   "display_name": "Python 3 (ipykernel)",
   "language": "python",
   "name": "python3"
  },
  "language_info": {
   "codemirror_mode": {
    "name": "ipython",
    "version": 3
   },
   "file_extension": ".py",
   "mimetype": "text/x-python",
   "name": "python",
   "nbconvert_exporter": "python",
   "pygments_lexer": "ipython3",
   "version": "3.10.6"
  }
 },
 "nbformat": 4,
 "nbformat_minor": 5
}
